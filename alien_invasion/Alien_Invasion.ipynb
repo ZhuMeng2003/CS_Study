{
 "cells": [
  {
   "cell_type": "code",
   "execution_count": 1,
   "metadata": {},
   "outputs": [],
   "source": [
    "\n",
    "# ! python -m pip --version   (Installing Python Packages)\n",
    "# ! pythonpip --version (download and install Pygame)\n",
    "# pip3 install pygame   (download and install Pygame)\n",
    "# ! pip install --upgrade pip   #(upgrade pip package) \n",
    "# ! pip install pygame"
   ]
  },
  {
   "cell_type": "code",
   "execution_count": 1,
   "metadata": {},
   "outputs": [
    {
     "name": "stdout",
     "output_type": "stream",
     "text": [
      "pygame 2.1.2 (SDL 2.0.18, Python 3.8.10)\n",
      "Hello from the pygame community. https://www.pygame.org/contribute.html\n"
     ]
    }
   ],
   "source": [
    "import sys\n",
    "import pygame\n",
    "from settings import Settings \n",
    "from ship import Ship\n",
    "import game_functions as gf"
   ]
  },
  {
   "cell_type": "code",
   "execution_count": 2,
   "metadata": {},
   "outputs": [
    {
     "ename": "KeyboardInterrupt",
     "evalue": "",
     "output_type": "error",
     "traceback": [
      "\u001b[0;31m---------------------------------------------------------------------------\u001b[0m",
      "\u001b[0;31mKeyboardInterrupt\u001b[0m                         Traceback (most recent call last)",
      "\u001b[1;32m/Users/bellemeng/Desktop/Intern CS Course/alien_invasion/Alien_Invasion.ipynb Cell 3'\u001b[0m in \u001b[0;36m<cell line: 27>\u001b[0;34m()\u001b[0m\n\u001b[1;32m     <a href='vscode-notebook-cell:/Users/bellemeng/Desktop/Intern%20CS%20Course/alien_invasion/Alien_Invasion.ipynb#ch0000005?line=24'>25</a>\u001b[0m         \u001b[39m# Make the most recently drawn screen visible.\u001b[39;00m\n\u001b[1;32m     <a href='vscode-notebook-cell:/Users/bellemeng/Desktop/Intern%20CS%20Course/alien_invasion/Alien_Invasion.ipynb#ch0000005?line=25'>26</a>\u001b[0m         pygame\u001b[39m.\u001b[39mdisplay\u001b[39m.\u001b[39mflip()\n\u001b[0;32m---> <a href='vscode-notebook-cell:/Users/bellemeng/Desktop/Intern%20CS%20Course/alien_invasion/Alien_Invasion.ipynb#ch0000005?line=26'>27</a>\u001b[0m run_game()\n",
      "\u001b[1;32m/Users/bellemeng/Desktop/Intern CS Course/alien_invasion/Alien_Invasion.ipynb Cell 3'\u001b[0m in \u001b[0;36mrun_game\u001b[0;34m()\u001b[0m\n\u001b[1;32m     <a href='vscode-notebook-cell:/Users/bellemeng/Desktop/Intern%20CS%20Course/alien_invasion/Alien_Invasion.ipynb#ch0000005?line=21'>22</a>\u001b[0m screen\u001b[39m.\u001b[39mfill(bg_color)\n\u001b[1;32m     <a href='vscode-notebook-cell:/Users/bellemeng/Desktop/Intern%20CS%20Course/alien_invasion/Alien_Invasion.ipynb#ch0000005?line=22'>23</a>\u001b[0m screen\u001b[39m.\u001b[39mfill(ai_settings\u001b[39m.\u001b[39mbg_color)\n\u001b[0;32m---> <a href='vscode-notebook-cell:/Users/bellemeng/Desktop/Intern%20CS%20Course/alien_invasion/Alien_Invasion.ipynb#ch0000005?line=23'>24</a>\u001b[0m ship\u001b[39m.\u001b[39;49mblitme()\n\u001b[1;32m     <a href='vscode-notebook-cell:/Users/bellemeng/Desktop/Intern%20CS%20Course/alien_invasion/Alien_Invasion.ipynb#ch0000005?line=24'>25</a>\u001b[0m \u001b[39m# Make the most recently drawn screen visible.\u001b[39;00m\n\u001b[1;32m     <a href='vscode-notebook-cell:/Users/bellemeng/Desktop/Intern%20CS%20Course/alien_invasion/Alien_Invasion.ipynb#ch0000005?line=25'>26</a>\u001b[0m pygame\u001b[39m.\u001b[39mdisplay\u001b[39m.\u001b[39mflip()\n",
      "File \u001b[0;32m~/Desktop/Intern CS Course/alien_invasion/ship.py:18\u001b[0m, in \u001b[0;36mShip.blitme\u001b[0;34m(self)\u001b[0m\n\u001b[1;32m     16\u001b[0m \u001b[39mdef\u001b[39;00m \u001b[39mblitme\u001b[39m(\u001b[39mself\u001b[39m): \n\u001b[1;32m     17\u001b[0m     \u001b[39m\"\"\"Draw the image to the screen at the position specified by self.rect\"\"\"\u001b[39;00m\n\u001b[0;32m---> 18\u001b[0m     \u001b[39mself\u001b[39;49m\u001b[39m.\u001b[39;49mscreen\u001b[39m.\u001b[39;49mblit(\u001b[39mself\u001b[39;49m\u001b[39m.\u001b[39;49mimage, \u001b[39mself\u001b[39;49m\u001b[39m.\u001b[39;49mrect)\n",
      "\u001b[0;31mKeyboardInterrupt\u001b[0m: "
     ]
    },
    {
     "ename": "",
     "evalue": "",
     "output_type": "error",
     "traceback": [
      "\u001b[1;31mThe Kernel crashed while executing code in the the current cell or a previous cell. Please review the code in the cell(s) to identify a possible cause of the failure. Click <a href='https://aka.ms/vscodeJupyterKernelCrash'>here</a> for more info. View Jupyter <a href='command:jupyter.viewOutput'>log</a> for further details."
     ]
    }
   ],
   "source": [
    "\n",
    "def run_game():\n",
    "    # Initialize pygame, settings, and screen object.\n",
    "    # Initialize game and create a screen object.\n",
    "    pygame.init() #(initializes background settings)\n",
    "    ai_settings = Settings()\n",
    "    screen = pygame.display.set_mode(\n",
    "        (ai_settings.screen_width, ai_settings.screen_height))\n",
    "    screen = pygame.display.set_mode((1200, 800)) #(create a display window) [(1200(with), 800(high)] is dimensions of the game window)\n",
    "    pygame.display.set_caption(\"Alien Invasion\")\n",
    "    bg_color = (0, 0, 255)\n",
    "\n",
    "    ship = Ship(screen) #make a ship\n",
    "    \n",
    "    # Start the main loop for the game.\n",
    "    while True: #(while loopwthat contains an event loop and code that manages screen updates)(An event is an action that the user performs while playing the game)\n",
    "        gf.check_events()\n",
    "        gf.update_screen(ai_settings, screen, ship)\n",
    "        # Watch for keyboard and mouse events.\n",
    "        for event in pygame.event.get(): #(The for loop atxis an event loop)\n",
    "            if event.type == pygame.QUIT:\n",
    "                sys.exit()\n",
    "        screen.fill(bg_color)\n",
    "        screen.fill(ai_settings.bg_color)\n",
    "        ship.blitme()\n",
    "        # Make the most recently drawn screen visible.\n",
    "        pygame.display.flip()\n",
    "run_game()"
   ]
  },
  {
   "cell_type": "code",
   "execution_count": 3,
   "metadata": {},
   "outputs": [
    {
     "name": "stdout",
     "output_type": "stream",
     "text": [
      "2\n",
      "2\n"
     ]
    }
   ],
   "source": [
    "for i in input():\n",
    "    if int(i)<4:\n",
    "        print(2)\n",
    "    if int(i)<3:\n",
    "        print(2)"
   ]
  },
  {
   "cell_type": "code",
   "execution_count": null,
   "metadata": {},
   "outputs": [],
   "source": []
  }
 ],
 "metadata": {
  "kernelspec": {
   "display_name": "Python 3.8.10 64-bit",
   "language": "python",
   "name": "python3"
  },
  "language_info": {
   "codemirror_mode": {
    "name": "ipython",
    "version": 3
   },
   "file_extension": ".py",
   "mimetype": "text/x-python",
   "name": "python",
   "nbconvert_exporter": "python",
   "pygments_lexer": "ipython3",
   "version": "3.8.10"
  },
  "orig_nbformat": 4,
  "vscode": {
   "interpreter": {
    "hash": "aee8b7b246df8f9039afb4144a1f6fd8d2ca17a180786b69acc140d282b71a49"
   }
  }
 },
 "nbformat": 4,
 "nbformat_minor": 2
}
